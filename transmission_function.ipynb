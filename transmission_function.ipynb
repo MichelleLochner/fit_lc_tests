{
 "metadata": {
  "name": "",
  "signature": "sha256:c616634a133de6f79768d3b2c685e0003d534d2d4fa0b6b05670c191676cb240"
 },
 "nbformat": 3,
 "nbformat_minor": 0,
 "worksheets": [
  {
   "cells": [
    {
     "cell_type": "code",
     "collapsed": false,
     "input": [
      "import os"
     ],
     "language": "python",
     "metadata": {},
     "outputs": [],
     "prompt_number": 1
    },
    {
     "cell_type": "code",
     "collapsed": false,
     "input": [
      "import numpy as np\n",
      "%matplotlib inline\n",
      "import matplotlib.pyplot as plt\n",
      "from astropy.units import Unit"
     ],
     "language": "python",
     "metadata": {},
     "outputs": [],
     "prompt_number": 2
    },
    {
     "cell_type": "code",
     "collapsed": false,
     "input": [
      "from lsst.sims.photUtils import Bandpass, Sed\n",
      "import lsst.sims.photUtils.PhotometricParameters as PhotometricParameters"
     ],
     "language": "python",
     "metadata": {},
     "outputs": [],
     "prompt_number": 3
    },
    {
     "cell_type": "code",
     "collapsed": false,
     "input": [
      "from lsst.sims.photUtils.Photometry import PhotometryBase"
     ],
     "language": "python",
     "metadata": {},
     "outputs": [],
     "prompt_number": 4
    },
    {
     "cell_type": "code",
     "collapsed": false,
     "input": [
      "import sncosmo"
     ],
     "language": "python",
     "metadata": {},
     "outputs": [],
     "prompt_number": 5
    },
    {
     "cell_type": "code",
     "collapsed": false,
     "input": [
      "from __future__ import division"
     ],
     "language": "python",
     "metadata": {},
     "outputs": [],
     "prompt_number": 6
    },
    {
     "cell_type": "heading",
     "level": 2,
     "metadata": {},
     "source": [
      "Using the LSST Transmission Functions"
     ]
    },
    {
     "cell_type": "code",
     "collapsed": false,
     "input": [
      "def getlsstbandpassobjs():\n",
      "    \"\"\"\n",
      "    General utility to return a list of the baseline LSST bandpasses\n",
      "    and register them as SNCosmo bandpasses accessible through strings\n",
      "    like 'LSSTu'.\n",
      "\n",
      "    Parameters\n",
      "    ----------\n",
      "    plot : bool, optional, defaults to False\n",
      "        plot filter functions obtained\n",
      "    Returns\n",
      "    -------\n",
      "    None\n",
      "\n",
      "    Examples\n",
      "    --------\n",
      "    >>> getlsstbandpassobjs()\n",
      "    \"\"\"\n",
      "\n",
      "    from astropy.units import Unit\n",
      "        \n",
      "    bandPassList = ['lsstu', 'lsstg', 'lsstr', 'lssti', 'lsstz', 'lssty']\n",
      "    original_bands = ['u', 'g', 'r', 'i', 'z', 'y']\n",
      "    banddir = os.path.join(os.getenv('THROUGHPUTS_DIR'), 'baseline')\n",
      "        \n",
      "    lsstbands = []\n",
      "    lsstbp = {}\n",
      "\n",
      "    for i in range(len(bandPassList)):\n",
      "        band=bandPassList[i]\n",
      "            # setup sncosmo bandpasses\n",
      "        bandfname = banddir + \"/total_\" + original_bands[i] + '.dat'\n",
      "\n",
      "            # register the LSST bands to the SNCosmo registry\n",
      "            # Not needed for LSST, but useful to compare independent codes\n",
      "            # Usually the next two lines can be merged,\n",
      "            # but there is an astropy bug currently which affects only OSX.\n",
      "        numpyband = np.loadtxt(bandfname)\n",
      "        sncosmoband = sncosmo.Bandpass(wave=numpyband[:, 0],\n",
      "                                       trans=numpyband[:, 1],\n",
      "                                       wave_unit=Unit('nm'),\n",
      "                                       name=band)\n",
      "        sncosmo.registry.register(sncosmoband, force=True)\n",
      "\n",
      "    return None"
     ],
     "language": "python",
     "metadata": {},
     "outputs": [],
     "prompt_number": 7
    },
    {
     "cell_type": "code",
     "collapsed": false,
     "input": [
      "getlsstbandpassobjs()"
     ],
     "language": "python",
     "metadata": {},
     "outputs": [],
     "prompt_number": 8
    },
    {
     "cell_type": "code",
     "collapsed": false,
     "input": [
      "model = sncosmo.Model(source='salt2-extended')\n",
      "model.set(z=0.2)\n",
      "model.set_source_peakabsmag(-19.3, 'bessellb', 'ab')"
     ],
     "language": "python",
     "metadata": {},
     "outputs": [],
     "prompt_number": 9
    },
    {
     "cell_type": "heading",
     "level": 2,
     "metadata": {},
     "source": [
      "Approximate Transmission Functions for speed"
     ]
    },
    {
     "cell_type": "code",
     "collapsed": false,
     "input": [
      "pbase = PhotometryBase()\n",
      "pbase.loadBandpassesFromFiles()"
     ],
     "language": "python",
     "metadata": {},
     "outputs": [],
     "prompt_number": 10
    },
    {
     "cell_type": "code",
     "collapsed": false,
     "input": [
      "bandPassNames = ['u', 'g', 'r', 'i', 'z', 'y']\n",
      "bandPassLimits = dict()\n",
      "bandPassLimits['u'] = [300., 450.]\n",
      "bandPassLimits['g'] = [380., 600.]\n",
      "bandPassLimits['r'] = [450., 751.]\n",
      "bandPassLimits['i'] = [600., 900.]\n",
      "bandPassLimits['z'] = [690., 1100.]\n",
      "bandPassLimits['y'] = [840., 1100.]"
     ],
     "language": "python",
     "metadata": {},
     "outputs": [],
     "prompt_number": 11
    },
    {
     "cell_type": "code",
     "collapsed": false,
     "input": [
      "for key in pbase.bandpassDict.keys():\n",
      "    bp = pbase.bandpassDict[key]\n",
      "    low = bandPassLimits[key][0]\n",
      "    high = bandPassLimits[key][1]\n",
      "    bp.resampleBandpass(wavelen_min=low, wavelen_max=high, wavelen_step=0.5)\n",
      "    bandpass  = sncosmo.Bandpass(wave=bp.wavelen, trans=bp.sb, wave_unit=Unit('nm'), name='approxLSST_'+key)\n",
      "    bp.resampleBandpass(wavelen_min=low, wavelen_max=high, wavelen_step=1.0)\n",
      "    sncosmo.registry.register(bandpass, force=True)\n",
      "    bandpass  = sncosmo.Bandpass(wave=bp.wavelen, trans=bp.sb, wave_unit=Unit('nm'), name='sparseLSST_'+key)    \n",
      "    sncosmo.registry.register(bandpass)"
     ],
     "language": "python",
     "metadata": {},
     "outputs": [],
     "prompt_number": 12
    },
    {
     "cell_type": "heading",
     "level": 3,
     "metadata": {},
     "source": [
      "Speed Comparisons"
     ]
    },
    {
     "cell_type": "heading",
     "level": 4,
     "metadata": {},
     "source": [
      "u band"
     ]
    },
    {
     "cell_type": "code",
     "collapsed": false,
     "input": [
      "%timeit model.bandflux(time=0., band='LSSTu')"
     ],
     "language": "python",
     "metadata": {},
     "outputs": [
      {
       "output_type": "stream",
       "stream": "stdout",
       "text": [
        "1000 loops, best of 3: 1.15 ms per loop\n"
       ]
      }
     ],
     "prompt_number": 13
    },
    {
     "cell_type": "code",
     "collapsed": false,
     "input": [
      "%timeit model.bandflux(time=0., band='approxLSST_u')"
     ],
     "language": "python",
     "metadata": {},
     "outputs": [
      {
       "output_type": "stream",
       "stream": "stdout",
       "text": [
        "10000 loops, best of 3: 124 \u00b5s per loop\n"
       ]
      }
     ],
     "prompt_number": 14
    },
    {
     "cell_type": "code",
     "collapsed": false,
     "input": [
      "%timeit model.bandflux(time=0., band='sparseLSST_u')"
     ],
     "language": "python",
     "metadata": {},
     "outputs": [
      {
       "output_type": "stream",
       "stream": "stdout",
       "text": [
        "10000 loops, best of 3: 98.2 \u00b5s per loop\n"
       ]
      }
     ],
     "prompt_number": 15
    },
    {
     "cell_type": "code",
     "collapsed": false,
     "input": [
      "truth = model.bandflux(time=0., band='LSSTu')\n",
      "print model.bandflux(time=0., band='sparseLSST_u') / truth , model.bandflux(time=0., band='approxLSST_u') / truth"
     ],
     "language": "python",
     "metadata": {},
     "outputs": [
      {
       "output_type": "stream",
       "stream": "stdout",
       "text": [
        "0.998108348627 0.998119257766\n"
       ]
      }
     ],
     "prompt_number": 17
    },
    {
     "cell_type": "heading",
     "level": 4,
     "metadata": {},
     "source": [
      "g band"
     ]
    },
    {
     "cell_type": "code",
     "collapsed": false,
     "input": [
      "%timeit model.bandflux(time=0., band='LSSTg')"
     ],
     "language": "python",
     "metadata": {},
     "outputs": [
      {
       "output_type": "stream",
       "stream": "stdout",
       "text": [
        "1000 loops, best of 3: 1.1 ms per loop\n"
       ]
      }
     ],
     "prompt_number": 10
    },
    {
     "cell_type": "code",
     "collapsed": false,
     "input": [
      "%timeit model.bandflux(time=0., band='approxLSST_g')"
     ],
     "language": "python",
     "metadata": {},
     "outputs": [
      {
       "output_type": "stream",
       "stream": "stdout",
       "text": [
        "10000 loops, best of 3: 137 \u00b5s per loop\n"
       ]
      }
     ],
     "prompt_number": 24
    },
    {
     "cell_type": "code",
     "collapsed": false,
     "input": [
      "%timeit model.bandflux(time=0., band='sparseLSST_g')"
     ],
     "language": "python",
     "metadata": {},
     "outputs": []
    },
    {
     "cell_type": "code",
     "collapsed": false,
     "input": [
      "%timeit model.bandflux(time=0., band='desg')"
     ],
     "language": "python",
     "metadata": {},
     "outputs": [
      {
       "output_type": "stream",
       "stream": "stdout",
       "text": [
        "10000 loops, best of 3: 103 \u00b5s per loop\n"
       ]
      }
     ],
     "prompt_number": 60
    },
    {
     "cell_type": "code",
     "collapsed": false,
     "input": [
      "truth = model.bandflux(time=0., band='LSSTg')\n",
      "print model.bandflux(time=0., band='sparseLSST_g') / truth , model.bandflux(time=0., band='approxLSST_g') / truth"
     ],
     "language": "python",
     "metadata": {},
     "outputs": [
      {
       "output_type": "stream",
       "stream": "stdout",
       "text": [
        "0.999949042793 0.999936248191\n"
       ]
      }
     ],
     "prompt_number": 18
    },
    {
     "cell_type": "heading",
     "level": 4,
     "metadata": {},
     "source": [
      "r band"
     ]
    },
    {
     "cell_type": "code",
     "collapsed": false,
     "input": [
      "%timeit model.bandflux(time=0., band='LSSTr')"
     ],
     "language": "python",
     "metadata": {},
     "outputs": [
      {
       "output_type": "stream",
       "stream": "stdout",
       "text": [
        "1000 loops, best of 3: 1.13 ms per loop\n"
       ]
      }
     ],
     "prompt_number": 11
    },
    {
     "cell_type": "code",
     "collapsed": false,
     "input": [
      "%timeit model.bandflux(time=0., band='sparseLSST_g')"
     ],
     "language": "python",
     "metadata": {},
     "outputs": [
      {
       "output_type": "stream",
       "stream": "stdout",
       "text": [
        "10000 loops, best of 3: 107 \u00b5s per loop\n"
       ]
      }
     ],
     "prompt_number": 32
    },
    {
     "cell_type": "code",
     "collapsed": false,
     "input": [
      "%timeit model.bandflux(time=0., band='approxLSST_r')"
     ],
     "language": "python",
     "metadata": {},
     "outputs": [
      {
       "output_type": "stream",
       "stream": "stdout",
       "text": [
        "10000 loops, best of 3: 160 \u00b5s per loop\n"
       ]
      }
     ],
     "prompt_number": 25
    },
    {
     "cell_type": "code",
     "collapsed": false,
     "input": [
      "%timeit model.bandflux(time=0., band='sparseLSST_r')"
     ],
     "language": "python",
     "metadata": {},
     "outputs": [
      {
       "output_type": "stream",
       "stream": "stdout",
       "text": [
        "10000 loops, best of 3: 116 \u00b5s per loop\n"
       ]
      }
     ],
     "prompt_number": 33
    },
    {
     "cell_type": "code",
     "collapsed": false,
     "input": [
      "%timeit model.bandflux(time=0., band='desr')"
     ],
     "language": "python",
     "metadata": {},
     "outputs": [
      {
       "output_type": "stream",
       "stream": "stdout",
       "text": [
        "10000 loops, best of 3: 109 \u00b5s per loop\n"
       ]
      }
     ],
     "prompt_number": 59
    },
    {
     "cell_type": "code",
     "collapsed": false,
     "input": [
      "truth = model.bandflux(time=0., band='LSSTr')\n",
      "print model.bandflux(time=0., band='sparseLSST_r') / truth , model.bandflux(time=0., band='approxLSST_r') / truth"
     ],
     "language": "python",
     "metadata": {},
     "outputs": [
      {
       "output_type": "stream",
       "stream": "stdout",
       "text": [
        "0.999870673111 0.99987373329\n"
       ]
      }
     ],
     "prompt_number": 19
    },
    {
     "cell_type": "heading",
     "level": 4,
     "metadata": {},
     "source": [
      "i band"
     ]
    },
    {
     "cell_type": "code",
     "collapsed": false,
     "input": [
      "%timeit model.bandflux(time=0., band='LSSTi')"
     ],
     "language": "python",
     "metadata": {},
     "outputs": [
      {
       "output_type": "stream",
       "stream": "stdout",
       "text": [
        "1000 loops, best of 3: 1.1 ms per loop\n"
       ]
      }
     ],
     "prompt_number": 12
    },
    {
     "cell_type": "code",
     "collapsed": false,
     "input": [
      "%timeit model.bandflux(time=0., band='approxLSST_i')"
     ],
     "language": "python",
     "metadata": {},
     "outputs": [
      {
       "output_type": "stream",
       "stream": "stdout",
       "text": [
        "10000 loops, best of 3: 157 \u00b5s per loop\n"
       ]
      }
     ],
     "prompt_number": 26
    },
    {
     "cell_type": "code",
     "collapsed": false,
     "input": [
      "%timeit model.bandflux(time=0., band='sparseLSST_i')"
     ],
     "language": "python",
     "metadata": {},
     "outputs": [
      {
       "output_type": "stream",
       "stream": "stdout",
       "text": [
        "10000 loops, best of 3: 118 \u00b5s per loop\n"
       ]
      }
     ],
     "prompt_number": 34
    },
    {
     "cell_type": "code",
     "collapsed": false,
     "input": [
      "%timeit model.bandflux(time=0., band='desi')"
     ],
     "language": "python",
     "metadata": {},
     "outputs": [
      {
       "output_type": "stream",
       "stream": "stdout",
       "text": [
        "10000 loops, best of 3: 111 \u00b5s per loop\n"
       ]
      }
     ],
     "prompt_number": 58
    },
    {
     "cell_type": "code",
     "collapsed": false,
     "input": [
      "truth = model.bandflux(time=0., band='LSSTi')\n",
      "print model.bandflux(time=0., band='sparseLSST_i') / truth , model.bandflux(time=0., band='approxLSST_i') / truth"
     ],
     "language": "python",
     "metadata": {},
     "outputs": [
      {
       "output_type": "stream",
       "stream": "stdout",
       "text": [
        "0.999753048567 0.999758036384\n"
       ]
      }
     ],
     "prompt_number": 20
    },
    {
     "cell_type": "heading",
     "level": 4,
     "metadata": {},
     "source": [
      "z band"
     ]
    },
    {
     "cell_type": "code",
     "collapsed": false,
     "input": [
      "%timeit model.bandflux(time=0., band='LSSTz')"
     ],
     "language": "python",
     "metadata": {},
     "outputs": [
      {
       "output_type": "stream",
       "stream": "stdout",
       "text": [
        "1000 loops, best of 3: 1.08 ms per loop\n"
       ]
      }
     ],
     "prompt_number": 13
    },
    {
     "cell_type": "code",
     "collapsed": false,
     "input": [
      "%timeit model.bandflux(time=0., band='approxLSST_z')"
     ],
     "language": "python",
     "metadata": {},
     "outputs": [
      {
       "output_type": "stream",
       "stream": "stdout",
       "text": [
        "10000 loops, best of 3: 195 \u00b5s per loop\n"
       ]
      }
     ],
     "prompt_number": 27
    },
    {
     "cell_type": "code",
     "collapsed": false,
     "input": [
      "%timeit model.bandflux(time=0., band='sparseLSST_z')"
     ],
     "language": "python",
     "metadata": {},
     "outputs": [
      {
       "output_type": "stream",
       "stream": "stdout",
       "text": [
        "10000 loops, best of 3: 132 \u00b5s per loop\n"
       ]
      }
     ],
     "prompt_number": 35
    },
    {
     "cell_type": "code",
     "collapsed": false,
     "input": [
      "%timeit model.bandflux(time=0., band='desz')"
     ],
     "language": "python",
     "metadata": {},
     "outputs": [
      {
       "output_type": "stream",
       "stream": "stdout",
       "text": [
        "10000 loops, best of 3: 104 \u00b5s per loop\n"
       ]
      }
     ],
     "prompt_number": 56
    },
    {
     "cell_type": "code",
     "collapsed": false,
     "input": [
      "truth = model.bandflux(time=0., band='LSSTz')\n",
      "print model.bandflux(time=0., band='sparseLSST_z') / truth , model.bandflux(time=0., band='approxLSST_z') / truth"
     ],
     "language": "python",
     "metadata": {},
     "outputs": [
      {
       "output_type": "stream",
       "stream": "stdout",
       "text": [
        "0.999111241276 0.999109300265\n"
       ]
      }
     ],
     "prompt_number": 21
    },
    {
     "cell_type": "heading",
     "level": 4,
     "metadata": {},
     "source": [
      "y band"
     ]
    },
    {
     "cell_type": "code",
     "collapsed": false,
     "input": [
      "%timeit model.bandflux(time=0., band='LSSTy')"
     ],
     "language": "python",
     "metadata": {},
     "outputs": [
      {
       "output_type": "stream",
       "stream": "stdout",
       "text": [
        "1000 loops, best of 3: 1.09 ms per loop\n"
       ]
      }
     ],
     "prompt_number": 14
    },
    {
     "cell_type": "code",
     "collapsed": false,
     "input": [
      "%timeit model.bandflux(time=0., band='approxLSST_y')"
     ],
     "language": "python",
     "metadata": {},
     "outputs": [
      {
       "output_type": "stream",
       "stream": "stdout",
       "text": [
        "10000 loops, best of 3: 147 \u00b5s per loop\n"
       ]
      }
     ],
     "prompt_number": 28
    },
    {
     "cell_type": "code",
     "collapsed": false,
     "input": [
      "%timeit model.bandflux(time=0., band='sparseLSST_y')"
     ],
     "language": "python",
     "metadata": {},
     "outputs": [
      {
       "output_type": "stream",
       "stream": "stdout",
       "text": [
        "10000 loops, best of 3: 115 \u00b5s per loop\n"
       ]
      }
     ],
     "prompt_number": 36
    },
    {
     "cell_type": "code",
     "collapsed": false,
     "input": [
      "%timeit model.bandflux(time=0., band='desy')"
     ],
     "language": "python",
     "metadata": {},
     "outputs": [
      {
       "output_type": "stream",
       "stream": "stdout",
       "text": [
        "10000 loops, best of 3: 92.3 \u00b5s per loop\n"
       ]
      }
     ],
     "prompt_number": 57
    },
    {
     "cell_type": "code",
     "collapsed": false,
     "input": [
      "truth = model.bandflux(time=0., band='LSSTy')\n",
      "print model.bandflux(time=0., band='sparseLSST_y') / truth , model.bandflux(time=0., band='approxLSST_y') / truth"
     ],
     "language": "python",
     "metadata": {},
     "outputs": [
      {
       "output_type": "stream",
       "stream": "stdout",
       "text": [
        "0.997842908079 0.99787724581\n"
       ]
      }
     ],
     "prompt_number": 22
    },
    {
     "cell_type": "heading",
     "level": 3,
     "metadata": {},
     "source": [
      "Write to Disk"
     ]
    },
    {
     "cell_type": "code",
     "collapsed": false,
     "input": [
      "def writeBandstoDisk(dirname = './', prefix='approxLSST_'):\n",
      "    import os\n",
      "    dirname = os.path.abspath(dirname)\n",
      "    for band in ['u', 'g', 'r', 'i', 'z', 'y']:\n",
      "        band = prefix + band\n",
      "        bp = sncosmo.get_bandpass(band)\n",
      "        fname = band + '_total.dat'\n",
      "        os.path.join(dirname, fname)\n",
      "        data = np.array([bp.wave, bp.trans])\n",
      "        np.savetxt(fname, data.transpose())\n",
      "    "
     ],
     "language": "python",
     "metadata": {},
     "outputs": [],
     "prompt_number": 73
    },
    {
     "cell_type": "code",
     "collapsed": false,
     "input": [
      "writeBandstoDisk()"
     ],
     "language": "python",
     "metadata": {},
     "outputs": [],
     "prompt_number": 74
    },
    {
     "cell_type": "heading",
     "level": 4,
     "metadata": {},
     "source": [
      "Registering Function"
     ]
    },
    {
     "cell_type": "code",
     "collapsed": false,
     "input": [
      "def registerBands(dirname, prefix=None, suffix=None):\n",
      "    \n",
      "    import os\n",
      "    bands = ['u', 'g', 'r', 'i', 'z', 'y']\n",
      "    for band in bands:\n",
      "        fname = os.path.join(dirname, prefix + band + suffix)\n",
      "        data = np.loadtxt(fname)\n",
      "        bp = sncosmo.Bandpass(wave=data[:, 0], trans=data[:, 1], name='approxLSST_'+band)\n",
      "        sncosmo.registry.register(bp, force=True)\n",
      "    "
     ],
     "language": "python",
     "metadata": {},
     "outputs": [],
     "prompt_number": 66
    }
   ],
   "metadata": {}
  }
 ]
}